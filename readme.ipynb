{
  "nbformat": 4,
  "nbformat_minor": 0,
  "metadata": {
    "colab": {
      "name": "Untitled0.ipynb",
      "provenance": []
    },
    "kernelspec": {
      "name": "python3",
      "display_name": "Python 3"
    }
  },
  "cells": [
    {
      "cell_type": "markdown",
      "metadata": {
        "id": "uoBDlGEHu4pD"
      },
      "source": [
        "# NN-Schrödinger\n",
        "\n",
        "This repository contains some of the experiments and additional materials for Entropy research paper *Deep neural network model for approximating eigenmodes localized by a \n",
        "confining potential*\n",
        "\n",
        "Authors: Luka Grubišić, Marko Hajba, Domagoj Lacmanović\n",
        "_________________________________________________________________\n",
        "We study eigenmode localization for a class of elliptic diffusion-reaction operators. As the prototype model problem we use a family of Schrödinger Hamiltonians parametrized\n",
        " by random potentials and study the associated effective confining potential. \n",
        "\n",
        "You can expect to find code, data and some of the results inside folders.\n",
        "\n",
        "*   **Ground_state_VPINN_1D** folder contains jupyter notebook, data and some of the additional results for the problem of calculating the ground state of the Schrödinger equation in 1 dimension using a Deep Ritz method.\n",
        "\n",
        "$$-\\Delta \\psi + V\\psi = \\varepsilon \\psi.$$\n",
        "Loss function used\n",
        "\\begin{equation}\n",
        "    L(u;\\beta)=\\dfrac{\\int_{\\Omega}|\\nabla u|^2+\\int_{\\Omega}Vu^2}{\\int_{\\Omega}u}+\\beta\\left(\\int_{\\Omega}u^2-1\\right).\n",
        "\\end{equation}\n",
        "We also monitor few other important metrics like relative error in ground-state energy using a Rayleigh Quotient in weak and strong sense and we also monitor equation residual in each epoch.\n",
        "*   **Landscape_function_VPINN_2D** folder contains jupyter notebook, data and some of the additional results for the problem of calculating landscape function\n",
        "$$-\\Delta \\psi + V\\psi = \\textbf{1}.$$\n",
        "FEniCS package was used in this 2D experiments. Effective potential is calculated from this landscape function and its minimums give a good approximation of the lowest eigenvalues and a localization of the corresponding eigenmodes.\n",
        "\n",
        "\n",
        "#### Some of the important packages used:\n",
        "\n",
        "* Tensorflow 2\n",
        "* FEniCS\n",
        "* NumPy\n",
        "* SciPy\n",
        "* Matplotlib\n",
        "\n"
      ]
    }
  ]
}