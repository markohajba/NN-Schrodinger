{
 "cells": [
  {
   "cell_type": "markdown",
   "metadata": {
    "id": "aTo6qYriDEum"
   },
   "source": [
    "The Ground state of the time-independent $Schr\\ddot{o}dinger$ $equation$ $1D$\n",
    "\n",
    "Variational Physical Informed Neural Network is used for training."
   ]
  },
  {
   "cell_type": "code",
   "execution_count": null,
   "metadata": {
    "id": "50ovrNiUQlRM",
    "outputId": "1e97e71f-081d-4852-b529-d04af2cd0ca2"
   },
   "outputs": [
    {
     "name": "stdout",
     "output_type": "stream",
     "text": [
      "2.3.1\n"
     ]
    }
   ],
   "source": [
    "# load important packages\n",
    "import os\n",
    "import tensorflow as tf\n",
    "print(tf.__version__)\n",
    "\n",
    "import numpy as np\n",
    "import matplotlib.pyplot as plt\n",
    "%matplotlib inline\n",
    "\n",
    "from tensorflow.keras import layers\n",
    "from datetime import datetime\n",
    "tf.random.set_seed(1)\n",
    "import random\n",
    "random.seed(1)\n",
    "np.random.seed(1)\n",
    "\n",
    "from tensorflow.keras import optimizers\n",
    "from tensorflow.keras import regularizers\n",
    "from tensorflow.keras import losses\n",
    "import scipy\n",
    "from scipy import integrate\n"
   ]
  },
  {
   "cell_type": "code",
   "execution_count": null,
   "metadata": {
    "id": "0pEQK0hdHf7B"
   },
   "outputs": [],
   "source": [
    "## obtain Gauss quadrature points\n",
    "global nx\n",
    "nx = 1024\n",
    "\n",
    "# domain [a, b]\n",
    "a = -6\n",
    "b = 6\n",
    "# generate Gaussian quadrature points on [-1, 1]\n",
    "[x1, w] = tf.constant(scipy.special.roots_legendre(nx))\n",
    "\n",
    "####### Gaussian quadrature points on [a, b]\n",
    "x = 0.5*(x1 + 1)*(b - a) + a\n",
    "# gauss = sum(w * f(x)) * 0.5*(b - a)\n",
    "x = tf.reshape(x, [nx,] )\n",
    "w = tf.reshape(w, [nx,] )\n",
    "x = tf.cast(x, dtype='float32')\n",
    "w = tf.cast(w, dtype='float32')\n"
   ]
  },
  {
   "cell_type": "code",
   "execution_count": null,
   "metadata": {
    "id": "bMnHy5mBgk2s",
    "outputId": "42de0256-f7a5-4a82-da1f-fc78cf6804fb"
   },
   "outputs": [
    {
     "name": "stdout",
     "output_type": "stream",
     "text": [
      "(500, 128)\n",
      "Total number of examples 500\n",
      "Number of nodes: 128\n",
      "(128, 1)\n",
      "128\n"
     ]
    }
   ],
   "source": [
    "## load data\n",
    "import scipy as scipy\n",
    "import scipy.io as sio\n",
    "\n",
    "mat_1 = sio.loadmat('exp_pot1D_data.mat')\n",
    "pot_exp_d = mat_1['Vi']\n",
    "U0_exp_d = mat_1['U1']\n",
    "EV_exp = mat_1['Di']\n",
    "EV_exp = EV_exp[:, 0]\n",
    "len_d = len(pot_exp_d)\n",
    "A_exp = mat_1['Aexp'].reshape(len_d,1)\n",
    "c_exp = mat_1['c'].reshape(len_d,1)\n",
    "k_exp = mat_1['k'].reshape(len_d,1)\n",
    "#######################\n",
    "\n",
    "mat3 = sio.loadmat('komb_pot1D_data.mat')\n",
    "pot_comb_d = mat3['Vi']\n",
    "U0_comb_d = mat3['U1']\n",
    "EV_comb = mat3['Di']\n",
    "EV_comb = EV_comb[:, 0]\n",
    "A1_comb = mat3['A1'].reshape(len_d,1)\n",
    "A2_comb = mat3['A2'].reshape(len_d,1)\n",
    "c1_comb = mat3['c1'].reshape(len_d,1)\n",
    "c2_comb = mat3['c2'].reshape(len_d,1)\n",
    "cfw_comb = mat3['cfw'].reshape(len_d,1)\n",
    "h_comb = mat3['h'].reshape(len_d,1)\n",
    "k1_comb = mat3['k1'].reshape(len_d,1)\n",
    "k2_comb = mat3['k2'].reshape(len_d,1)\n",
    "l_comb = mat3['l'].reshape(len_d,1)\n",
    "\n",
    "nodes = len(pot_exp_d[0])\n",
    "print(\"Total number of examples\", len_d)\n",
    "print(\"Number of nodes:\",nodes)\n",
    "x_d = mat_1['xi'].reshape(nodes,1)\n",
    "x_d = tf.cast(x_d, dtype = 'float32')\n",
    "x_d = tf.reshape(x_d, [len(x_d),] )"
   ]
  },
  {
   "cell_type": "code",
   "execution_count": null,
   "metadata": {
    "id": "XbEmLkMoSfH0",
    "outputId": "9634f311-4fcc-4048-ee86-6d10316d33db"
   },
   "outputs": [
    {
     "name": "stdout",
     "output_type": "stream",
     "text": [
      "[8.23847547] [0.90985952] [0.97213293]\n",
      "-5.685253724325811\n"
     ]
    }
   ],
   "source": [
    "## Check coefficients of the example s\n",
    "s = 100\n",
    "\n",
    "print(A_exp[s], c_exp[s], k_exp[s])\n",
    "print(EV_exp[s])"
   ]
  },
  {
   "cell_type": "code",
   "execution_count": null,
   "metadata": {
    "id": "KQShZgoKQlRT"
   },
   "outputs": [],
   "source": [
    "## define potentials\n",
    "def V_exp(xi, s):\n",
    "    return tf.constant(-A_exp[s]*np.exp(-((xi-c_exp[s])/k_exp[s])**2), dtype = 'float32')\n",
    "\n",
    "def V_comb(xi, s):\n",
    "    return -tf.constant( A1_comb[s]*np.exp(-((xi-c1_comb[s])/k1_comb[s])**2) + \\\n",
    "                         A2_comb[s]*np.exp(-((xi-c2_comb[s])/k2_comb[s])**2) + \\\n",
    "                         h_comb[s]* ( np.abs(xi - cfw_comb[s])<l_comb[s] ), dtype = 'float32' )"
   ]
  },
  {
   "cell_type": "code",
   "execution_count": null,
   "metadata": {
    "id": "3vaGK_j5Cn_4"
   },
   "outputs": [],
   "source": [
    "## define custom activation function\n",
    "from tensorflow.keras.layers import *\n",
    "from tensorflow.keras.models import *\n",
    "from tensorflow.keras import backend as K\n",
    "def activ(x):\n",
    "    return tf.keras.activations.exponential(-0.5*x*x)"
   ]
  },
  {
   "cell_type": "code",
   "execution_count": null,
   "metadata": {
    "id": "8KnMLYHxCn_5",
    "outputId": "64c3b398-6982-4df7-d8ab-d5f4a11d93af"
   },
   "outputs": [
    {
     "name": "stdout",
     "output_type": "stream",
     "text": [
      "Model: \"functional_1\"\n",
      "__________________________________________________________________________________________________\n",
      "Layer (type)                    Output Shape         Param #     Connected to                     \n",
      "==================================================================================================\n",
      "inputs (InputLayer)             [(None, 1)]          0                                            \n",
      "__________________________________________________________________________________________________\n",
      "h1 (Dense)                      (None, 10)           20          inputs[0][0]                     \n",
      "__________________________________________________________________________________________________\n",
      "activation (Activation)         (None, 10)           0           h1[0][0]                         \n",
      "__________________________________________________________________________________________________\n",
      "h2 (Dense)                      (None, 10)           110         activation[0][0]                 \n",
      "__________________________________________________________________________________________________\n",
      "activation_1 (Activation)       (None, 10)           0           h2[0][0]                         \n",
      "__________________________________________________________________________________________________\n",
      "concatenate (Concatenate)       (None, 11)           0           inputs[0][0]                     \n",
      "                                                                 activation_1[0][0]               \n",
      "__________________________________________________________________________________________________\n",
      "h3 (Dense)                      (None, 10)           120         concatenate[0][0]                \n",
      "__________________________________________________________________________________________________\n",
      "activation_2 (Activation)       (None, 10)           0           h3[0][0]                         \n",
      "__________________________________________________________________________________________________\n",
      "h4 (Dense)                      (None, 10)           110         activation_2[0][0]               \n",
      "__________________________________________________________________________________________________\n",
      "activation_3 (Activation)       (None, 10)           0           h4[0][0]                         \n",
      "__________________________________________________________________________________________________\n",
      "concatenate_1 (Concatenate)     (None, 21)           0           concatenate[0][0]                \n",
      "                                                                 activation_3[0][0]               \n",
      "__________________________________________________________________________________________________\n",
      "h5 (Dense)                      (None, 10)           220         concatenate_1[0][0]              \n",
      "__________________________________________________________________________________________________\n",
      "activation_4 (Activation)       (None, 10)           0           h5[0][0]                         \n",
      "__________________________________________________________________________________________________\n",
      "h6 (Dense)                      (None, 10)           110         activation_4[0][0]               \n",
      "__________________________________________________________________________________________________\n",
      "activation_5 (Activation)       (None, 10)           0           h6[0][0]                         \n",
      "__________________________________________________________________________________________________\n",
      "concatenate_2 (Concatenate)     (None, 31)           0           concatenate_1[0][0]              \n",
      "                                                                 activation_5[0][0]               \n",
      "__________________________________________________________________________________________________\n",
      "h7 (Dense)                      (None, 10)           320         concatenate_2[0][0]              \n",
      "__________________________________________________________________________________________________\n",
      "activation_6 (Activation)       (None, 10)           0           h7[0][0]                         \n",
      "__________________________________________________________________________________________________\n",
      "h8 (Dense)                      (None, 10)           110         activation_6[0][0]               \n",
      "__________________________________________________________________________________________________\n",
      "activation_7 (Activation)       (None, 10)           0           h8[0][0]                         \n",
      "__________________________________________________________________________________________________\n",
      "concatenate_3 (Concatenate)     (None, 41)           0           concatenate_2[0][0]              \n",
      "                                                                 activation_7[0][0]               \n",
      "__________________________________________________________________________________________________\n",
      "out (Dense)                     (None, 1)            42          concatenate_3[0][0]              \n",
      "__________________________________________________________________________________________________\n",
      "activation_8 (Activation)       (None, 1)            0           out[0][0]                        \n",
      "==================================================================================================\n",
      "Total params: 1,162\n",
      "Trainable params: 1,162\n",
      "Non-trainable params: 0\n",
      "__________________________________________________________________________________________________\n"
     ]
    }
   ],
   "source": [
    "def NN(x):\n",
    "    tf.random.set_seed(1)\n",
    "    init1 = tf.keras.initializers.GlorotUniform(seed = 5)\n",
    "    tf.random.set_seed(1)\n",
    "    init2 = tf.keras.initializers.GlorotUniform(seed = 5)\n",
    "    tf.random.set_seed(1)\n",
    "    init3 = tf.keras.initializers.GlorotUniform(seed = 5)\n",
    "    tf.random.set_seed(1)\n",
    "    init4 = tf.keras.initializers.GlorotUniform(seed = 5)\n",
    "    tf.random.set_seed(1)\n",
    "    init5 = tf.keras.initializers.GlorotUniform(seed = 5)\n",
    "    tf.random.set_seed(1)\n",
    "    init6 = tf.keras.initializers.GlorotUniform(seed = 5)\n",
    "    tf.random.set_seed(1)\n",
    "    init7 = tf.keras.initializers.GlorotUniform(seed = 5)\n",
    "    tf.random.set_seed(1)\n",
    "    init8 = tf.keras.initializers.GlorotUniform(seed = 5)\n",
    "    #############################################################\n",
    "    inputs = layers.Input(shape = (1, ), name = \"inputs\")\n",
    "    h1 = layers.Dense(10, name = \"h1\", kernel_initializer=init1, bias_initializer=tf.keras.initializers.Zeros())(inputs)\n",
    "    h1 = layers.Activation(activ)(h1)\n",
    "    h2 = layers.Dense(10, name = \"h2\", kernel_initializer=init2, bias_initializer=tf.keras.initializers.Zeros())(h1)\n",
    "    h2 = layers.Activation(activ)(h2)\n",
    "    c1 = layers.Concatenate()([inputs, h2])\n",
    "    \n",
    "    h3 = layers.Dense(10, name = \"h3\", kernel_initializer=init3, bias_initializer=tf.keras.initializers.Zeros())(c1)\n",
    "    h3 = layers.Activation(activ)(h3)\n",
    "    h4 = layers.Dense(10, name = \"h4\", kernel_initializer=init4, bias_initializer=tf.keras.initializers.Zeros())(h3)\n",
    "    h4 = layers.Activation(activ)(h4)\n",
    "    c2 = layers.Concatenate()([c1, h4])\n",
    "    \n",
    "    h5 = layers.Dense(10, name = \"h5\", kernel_initializer=init5, bias_initializer=tf.keras.initializers.Zeros())(c2)\n",
    "    h5 = layers.Activation(activ)(h5)\n",
    "    h6 = layers.Dense(10, name = \"h6\", kernel_initializer=init6, bias_initializer=tf.keras.initializers.Zeros())(h5)\n",
    "    h6 = layers.Activation(activ)(h6)\n",
    "    c3 = layers.Concatenate()([c2, h6])\n",
    "    \n",
    "    h7 = layers.Dense(10, name = \"h7\", kernel_initializer=init7, bias_initializer=tf.keras.initializers.Zeros())(c3)\n",
    "    h7 = layers.Activation(activ)(h7)\n",
    "    h8 = layers.Dense(10, name = \"h8\", kernel_initializer=init8, bias_initializer=tf.keras.initializers.Zeros())(h7)\n",
    "    h8 = layers.Activation(activ)(h8)\n",
    "    c4 = layers.Concatenate()([c3, h8])\n",
    "    \n",
    "    out0 = layers.Dense(1, name = \"out\", kernel_initializer=init7, bias_initializer=tf.keras.initializers.Zeros())(c4)\n",
    "    out = layers.Activation(activ)(out0)\n",
    "    # define model\n",
    "    model = tf.keras.Model(inputs, out)\n",
    "\n",
    "    return model\n",
    "\n",
    "# check model architecture\n",
    "model = NN(x)\n",
    "model.summary()\n",
    "optim = tf.keras.optimizers.Adam(lr=0.001)"
   ]
  },
  {
   "cell_type": "code",
   "execution_count": null,
   "metadata": {
    "id": "T5bo-cDXDUZl",
    "outputId": "d67b8f9c-b289-45b0-c42a-319629033c64"
   },
   "outputs": [
    {
     "name": "stdout",
     "output_type": "stream",
     "text": [
      "[-0.64718556  0.48990768  0.6995198  -0.22931832  0.01537156 -0.21104419\n",
      " -0.05683863  0.19990122  0.5277671   0.04731739]\n"
     ]
    },
    {
     "data": {
      "image/png": "[encoded data removed]",
      "text/plain": [
       "<Figure size 432x288 with 1 Axes>"
      ]
     },
     "metadata": {
      "needs_background": "light",
      "tags": []
     },
     "output_type": "display_data"
    }
   ],
   "source": [
    "## check the start of the neural network\n",
    "model = NN(x)\n",
    "pred1 = model(x)\n",
    "plt.plot(x, pred1, 'b')\n",
    "W1 = model.layers[1].get_weights()[0]\n",
    "print(W1[0, 0:10])"
   ]
  },
  {
   "cell_type": "code",
   "execution_count": null,
   "metadata": {
    "id": "NbG5hxw2Cn_5"
   },
   "outputs": [],
   "source": [
    "## calculate residual metrics\n",
    "def residual1(x, w, V_d, model):\n",
    "  def residual(y_true, y_pred):\n",
    "    \n",
    "    with tf.GradientTape() as g:\n",
    "        g.watch(x)\n",
    "        with tf.GradientTape() as gg:\n",
    "            gg.watch(x)\n",
    "            pred = model(x)\n",
    "        grad = gg.gradient(pred, x)      # Will compute first derivative\n",
    "    grad2 = g.gradient(grad, x)          # Will compute second derivative\n",
    "    y_pred = model(x)\n",
    "    y_pred = tf.reshape(y_pred, (len(x), ))\n",
    "\n",
    "    grad = tf.cast(grad, dtype = 'float32')\n",
    "    grad = tf.reshape(grad, [nx,] )\n",
    "    grad2 = tf.reshape(grad2, [nx,] )\n",
    "    \n",
    "    Ham = -grad2 + tf.multiply(V_d, y_pred)\n",
    "    Ham = tf.reshape(Ham, [nx,] )\n",
    "    \n",
    "    y_pred_sq = tf.square(y_pred)\n",
    "    pred_int_2 = tf.math.reduce_sum(tf.multiply(w, y_pred_sq)*(b-a)*0.5)\n",
    "      \n",
    "    e = tf.math.reduce_sum(tf.multiply(w, tf.multiply(Ham, y_pred))*(b-a)*0.5)/pred_int_2\n",
    "    \n",
    "    eq_res = tf.math.reduce_sum(tf.multiply(w, tf.square(Ham - e*y_pred ))*(b-a)*0.5)/pred_int_2\n",
    "\n",
    "    return eq_res\n",
    "  return residual"
   ]
  },
  {
   "cell_type": "code",
   "execution_count": null,
   "metadata": {
    "id": "FrtRPIaoCn_5"
   },
   "outputs": [],
   "source": [
    "# calculate the Rayleigh Quotient in strong form\n",
    "# then calculate relative error w.r.t chebfun solution of the ground state energy\n",
    "def ritz_strong(x, w, V_d, EV, model):\n",
    "  def ritz_s(y_true, y_pred):\n",
    "    \n",
    "    with tf.GradientTape() as g:\n",
    "        g.watch(x)\n",
    "        with tf.GradientTape() as gg:\n",
    "            gg.watch(x)\n",
    "            pred = model(x)\n",
    "        grad = gg.gradient(pred, x)      # Will compute first derivative\n",
    "    grad2 = g.gradient(grad, x)          # Will compute second derivative\n",
    "    y_pred = model(x)\n",
    "    y_pred = tf.reshape(y_pred, (len(x), ))\n",
    "\n",
    "    grad = tf.cast(grad, dtype = 'float32')\n",
    "    grad = tf.reshape(grad, [nx,] )\n",
    "    grad2 = tf.reshape(grad2, [nx,] )\n",
    "    \n",
    "    Ham = -grad2 + tf.multiply(V_d, y_pred)\n",
    "    Ham = tf.reshape(Ham, [nx,] )\n",
    "    \n",
    "    y_pred_sq = tf.square(y_pred)\n",
    "    pred_int_2 = tf.math.reduce_sum(tf.multiply(w, y_pred_sq)*(b-a)*0.5)\n",
    "\n",
    "    e = tf.math.reduce_sum(tf.multiply(w, tf.multiply(Ham, y_pred))*(b-a)*0.5)/pred_int_2\n",
    "    \n",
    "    ritz_res_strong = tf.math.abs((EV-e)/EV)\n",
    "    \n",
    "    return ritz_res_strong\n",
    "  return ritz_s"
   ]
  },
  {
   "cell_type": "code",
   "execution_count": null,
   "metadata": {
    "id": "V_oHODZ9Cn_5"
   },
   "outputs": [],
   "source": [
    "# calculate the Rayleigh Quotient in weak form\n",
    "# then calculate relative error w.r.t chebfun solution of the ground state energy\n",
    "def ritz_weak(x,w, V_d, EV, model):\n",
    "  def ritz_w(y_true, y_pred):\n",
    "    dbc = tf.constant([6], dtype='float32')\n",
    "    with tf.GradientTape() as g:\n",
    "        g.watch(x)\n",
    "        pred = model(x) #, training = True)\n",
    "    grad = g.gradient(pred, x)     # Will compute first derivative\n",
    "    y_pred = model(x)\n",
    "    y_pred = tf.reshape(y_pred, (len(x), ))\n",
    "\n",
    "    grad = tf.cast(grad, dtype = 'float32')\n",
    "    grad = tf.reshape(grad, [nx,] )\n",
    "    \n",
    "    y_pred_sq = tf.square(y_pred)\n",
    "    pred_int_2 = tf.math.reduce_sum(tf.multiply(w, y_pred_sq)*(b-a)*0.5)\n",
    "    \n",
    "    e = tf.math.reduce_sum(tf.multiply(w, tf.square(grad))*(b-a)*0.5)\n",
    "    e = e + tf.math.reduce_sum(tf.multiply(w, tf.multiply(V_d, y_pred_sq))*(b-a)*0.5)\n",
    "    e = e / pred_int_2\n",
    "    \n",
    "    ritz_res_weak = tf.math.abs((EV-e)/EV)\n",
    "    \n",
    "    return ritz_res_weak\n",
    "  return ritz_w"
   ]
  },
  {
   "cell_type": "code",
   "execution_count": null,
   "metadata": {
    "id": "o_7sqC9nCn_5"
   },
   "outputs": [],
   "source": [
    "## loss function:\n",
    "def get_loss(x,w, V_d, model):\n",
    "  def loss(y_true, y_pred):\n",
    "    dbc = tf.constant([6], dtype='float32')\n",
    "    with tf.GradientTape() as g:\n",
    "        g.watch(x)\n",
    "        pred = model(x)\n",
    "    grad = g.gradient(pred, x)\n",
    "    y_pred = model(x)\n",
    "    y_pred = tf.reshape(y_pred, (len(x), ))\n",
    "\n",
    "    grad = tf.cast(grad, dtype = 'float32')\n",
    "    grad = tf.reshape(grad, [nx,] )\n",
    "    \n",
    "    y_pred_sq = tf.square(y_pred)\n",
    "    pred_int_2 = tf.math.reduce_sum(tf.multiply(w, y_pred_sq)*(b-a)*0.5)\n",
    "        \n",
    "    loss_value = tf.math.reduce_sum(tf.multiply(w, tf.square(grad))*(b-a)*0.5)\n",
    "    loss_value = loss_value + tf.math.reduce_sum(tf.multiply(w, tf.multiply(V_d, y_pred_sq))*(b-a)*0.5)\n",
    "    loss_value = loss_value / pred_int_2\n",
    "    loss_value = loss_value + 20*tf.math.square(tf.math.reduce_sum(tf.multiply(w, y_pred_sq)*(b-a)*0.5) - 1)\n",
    "    \n",
    "    return loss_value\n",
    "  return loss"
   ]
  },
  {
   "cell_type": "code",
   "execution_count": null,
   "metadata": {
    "id": "Xkk0jQyNCn_5"
   },
   "outputs": [],
   "source": [
    "## choose example and compile model with custom loss and metrics\n",
    "## Adam optimizer is used\n",
    "\n",
    "s = tf.constant(10)\n",
    "V_d = V_comb(x, s)\n",
    "energy = EV_comb[s]\n",
    "U0d = U0_comb_d[s]\n",
    "\n",
    "model = NN(x)\n",
    "optim = tf.keras.optimizers.Adam(lr=0.001)\n",
    "\n",
    "var_loss = get_loss(x, w, V_d, model)\n",
    "eq_res = residual1(x, w, V_d, model)\n",
    "\n",
    "ritz_res_strong = ritz_strong(x, w, V_d, energy, model)\n",
    "ritz_res_weak = ritz_weak(x, w, V_d, energy, model)\n",
    "model.compile( loss = var_loss,\n",
    "  optimizer=optim, metrics = [eq_res, ritz_res_strong, ritz_res_weak])"
   ]
  },
  {
   "cell_type": "code",
   "execution_count": null,
   "metadata": {
    "id": "3QQQrNLRCn_5"
   },
   "outputs": [],
   "source": [
    "## train the VPINN for chosen example\n",
    "no_epoch = 15000\n",
    "\n",
    "history = model.fit(x, model(x),\n",
    "        verbose = 0,\n",
    "      batch_size = len(x),\n",
    "      epochs = no_epoch,\n",
    "      )\n"
   ]
  },
  {
   "cell_type": "code",
   "execution_count": null,
   "metadata": {
    "id": "v3rqe84lCn_5",
    "outputId": "16e98b2b-18be-4e59-da00-89405c898ddf"
   },
   "outputs": [
    {
     "data": {
      "text/plain": [
       "Text(0.5, 1.0, 'Residual and Rayleigh quotient values per epochs')"
      ]
     },
     "execution_count": 59,
     "metadata": {
      "tags": []
     },
     "output_type": "execute_result"
    },
    {
     "data": {
      "image/png": "[encoded data removed]",
      "text/plain": [
       "<Figure size 576x576 with 1 Axes>"
      ]
     },
     "metadata": {
      "needs_background": "light",
      "tags": []
     },
     "output_type": "display_data"
    }
   ],
   "source": [
    "plt.figure(figsize=(8, 8))\n",
    "plt.semilogy(history.history['residual'], 'r', label = r'$ \\dfrac{\\Vert H\\psi - \\epsilon(\\psi)\\psi \\Vert_{L^2}^2}{\\Vert \\psi \\Vert_{L^2}^2} $')\n",
    "plt.semilogy(history.history['ritz_s'], 'b', label = r'$ abs\\left( \\dfrac{ \\dfrac{(H\\psi, \\psi)}{(\\psi, \\psi)} - \\epsilon_0}{\\epsilon_0}\\right)$')\n",
    "plt.legend(fontsize=14)\n",
    "plt.xticks(fontsize=14)\n",
    "plt.yticks(fontsize=14)\n",
    "plt.xlabel('epochs', fontsize=14)\n",
    "plt.title('Residual and Rayleigh quotient values per epochs', fontsize=15)"
   ]
  },
  {
   "cell_type": "code",
   "execution_count": null,
   "metadata": {
    "id": "ImHnTTIsCn_5",
    "outputId": "e2b95cd7-01d1-4555-cd49-b6b27d2a60ba"
   },
   "outputs": [
    {
     "data": {
      "text/plain": [
       "<matplotlib.legend.Legend at 0x7f590d6d4510>"
      ]
     },
     "execution_count": 48,
     "metadata": {
      "tags": []
     },
     "output_type": "execute_result"
    },
    {
     "data": {
      "image/png": "[encoded data removed]",
      "text/plain": [
       "<Figure size 576x576 with 1 Axes>"
      ]
     },
     "metadata": {
      "needs_background": "light",
      "tags": []
     },
     "output_type": "display_data"
    }
   ],
   "source": [
    "plt.figure(figsize=(8, 8))\n",
    "plt.semilogy(residual_metrics, 'r', label = r'$ \\dfrac{\\Vert H\\Psi - e\\psi \\Vert_{L^2}^2}{\\Vert \\Psi \\Vert_{L^2}^2}$')\n",
    "plt.legend()"
   ]
  },
  {
   "cell_type": "code",
   "execution_count": null,
   "metadata": {
    "id": "bxW9Zz6hCn_5",
    "outputId": "b9ea2328-ab80-4591-af06-9a880b5b81fd"
   },
   "outputs": [
    {
     "name": "stdout",
     "output_type": "stream",
     "text": [
      "e0 from Chebfun: -29.505088287279953\n",
      "e0 from NN: tf.Tensor(-29.476067, shape=(), dtype=float32)\n",
      "Last loss value -29.467548370361328\n",
      "Relative error in energy: tf.Tensor(0.09836343, shape=(), dtype=float32) %\n",
      "L2 norm of NN solution tf.Tensor(0.9980276, shape=(), dtype=float32)\n"
     ]
    }
   ],
   "source": [
    "## Analyse the error in ground state energy of the VPINN solution w.r.t Chebfun solution\n",
    "pred_data = model(x)\n",
    "NN_d = tf.reshape(pred_data, (len(x), ))\n",
    "with tf.GradientTape() as g:\n",
    "    g.watch(x)\n",
    "    pred = model(x)\n",
    "grad = g.gradient(pred, x)\n",
    "\n",
    "e0_NN = tf.math.reduce_sum(tf.multiply(w, tf.square(grad))*(b-a)*0.5)\n",
    "e0_NN = e0_NN + tf.math.reduce_sum(tf.multiply(w, tf.multiply(V_d, tf.square(NN_d)))*(b-a)*0.5)\n",
    "e0_NN = e0_NN / tf.math.reduce_sum(tf.multiply(w, tf.square(NN_d))*(b-a)*0.5)\n",
    "\n",
    "e0_cheb = energy\n",
    "\n",
    "rel_err_e0 = tf.math.abs(e0_cheb.astype('float32') - e0_NN)/(tf.math.abs(e0_cheb.astype('float32')))*100\n",
    "\n",
    "print('e0 from Chebfun:', e0_cheb)\n",
    "print('e0 from NN:', e0_NN)\n",
    "print('Last loss value', history.history['loss'][9999])\n",
    "print('Relative error in energy:', tf.math.abs(e0_cheb.astype('float32') - e0_NN)/(tf.math.abs(e0_cheb.astype('float32')))*100, '%')\n",
    "print('L2 norm of NN solution', tf.math.sqrt(tf.math.reduce_sum(tf.multiply(w, tf.square(NN_d))*(b-a)*0.5)))\n"
   ]
  },
  {
   "cell_type": "code",
   "execution_count": null,
   "metadata": {
    "id": "HGxXrkckCn_6",
    "outputId": "7335b6a3-898a-4ec8-8294-93d87c3805f9"
   },
   "outputs": [
    {
     "name": "stdout",
     "output_type": "stream",
     "text": [
      "(1024, 1)\n"
     ]
    },
    {
     "data": {
      "image/png": "[encoded data removed]",
      "text/plain": [
       "<Figure size 576x576 with 1 Axes>"
      ]
     },
     "metadata": {
      "needs_background": "light",
      "tags": []
     },
     "output_type": "display_data"
    }
   ],
   "source": [
    "## plot the  -potential, ground state obtained in Chebfun and obtained using VPINN\n",
    "U0d = tf.cast(U0d, dtype = 'float32')\n",
    "U0d = tf.reshape(U0d, [nodes,1] )\n",
    "\n",
    "plt.figure(figsize=(8, 8))\n",
    "plt.plot(x_d, U0d, label='$\\psi_{chebfun}$')\n",
    "plt.plot(x, -V_d, label='-V(x)')\n",
    "pred_data = model(x)\n",
    "print(pred_data.shape)\n",
    "NN_d = tf.reshape(pred_data, (len(x), ))\n",
    "plt.plot(x, NN_d, 'k--', label='$\\psi_{NN}$')\n",
    "plt.title('Potential and the ground state'+ '\\n Relative error of the ground energy: '+ str(rel_err_e0.numpy())+'%', fontsize=16)\n",
    "plt.legend(fontsize=20)\n",
    "plt.xticks(fontsize=14)\n",
    "plt.xlabel('x', fontsize=14)\n",
    "plt.yticks(fontsize=14)\n",
    "plt.show()"
   ]
  }
 ],
 "metadata": {
  "colab": {
   "collapsed_sections": [],
   "name": "1d-variational-comparison-easy-potentials.ipynb",
   "provenance": []
  },
  "kernelspec": {
   "display_name": "Python 3",
   "language": "python",
   "name": "python3"
  },
  "language_info": {
   "codemirror_mode": {
    "name": "ipython",
    "version": 3
   },
   "file_extension": ".py",
   "mimetype": "text/x-python",
   "name": "python",
   "nbconvert_exporter": "python",
   "pygments_lexer": "ipython3",
   "version": "3.7.8"
  }
 },
 "nbformat": 4,
 "nbformat_minor": 1
}
